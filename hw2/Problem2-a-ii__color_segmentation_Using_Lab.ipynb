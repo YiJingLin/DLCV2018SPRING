{
 "cells": [
  {
   "cell_type": "code",
   "execution_count": null,
   "metadata": {
    "collapsed": true
   },
   "outputs": [],
   "source": [
    "from skimage import io, color # RGB2Lab\n",
    "from sklearn.cluster import KMeans\n",
    "\n",
    "import matplotlib.image as mpimg # cmap\n",
    "import matplotlib.pyplot as plt #cmap\n"
   ]
  },
  {
   "cell_type": "code",
   "execution_count": null,
   "metadata": {},
   "outputs": [],
   "source": [
    "rgb = io.imread(\"./data/Problem2/zebra.jpg\")\n",
    "lab = color.rgb2lab(rgb)\n",
    "lab.shape"
   ]
  },
  {
   "cell_type": "code",
   "execution_count": null,
   "metadata": {},
   "outputs": [],
   "source": [
    "kmeans = KMeans(n_clusters=10, random_state=0, max_iter=1000).fit(lab.reshape(-1, 3))\n",
    "kmeans.labels_"
   ]
  },
  {
   "cell_type": "code",
   "execution_count": null,
   "metadata": {},
   "outputs": [],
   "source": [
    "def get_cmap(n, name='hsv'):\n",
    "    '''Returns a function that maps each index in 0, 1, ..., n-1 to a distinct \n",
    "    RGB color; the keyword argument name must be a standard mpl colormap name.'''\n",
    "    return plt.cm.get_cmap(name, n)\n",
    "\n",
    "def show_cmap(cmap):\n",
    "    N = 10\n",
    "    fig=plt.figure()\n",
    "    ax=fig.add_subplot(111)   \n",
    "    plt.axis('scaled')\n",
    "    ax.set_xlim([ 0, N])\n",
    "    ax.set_ylim([-0.5, 0.5])\n",
    "    for i in range(N):\n",
    "        rect = plt.Rectangle((i, -0.5), 1, 1, facecolor=cmap(i))\n",
    "        ax.add_artist(rect)\n",
    "    ax.set_yticks([])\n",
    "    plt.show()\n",
    "\n",
    "cmap = get_cmap(10)\n",
    "show_cmap(cmap)"
   ]
  },
  {
   "cell_type": "code",
   "execution_count": null,
   "metadata": {
    "collapsed": true
   },
   "outputs": [],
   "source": [
    "lab_color_sgmnt = kmeans.labels_.reshape(331, 640)\n",
    "plt.imsave(\"./output/zebra_colorSegmentation_lab.jpg\", lab_color_sgmnt, cmap=cmap)"
   ]
  }
 ],
 "metadata": {
  "kernelspec": {
   "display_name": "Python 3",
   "language": "python",
   "name": "python3"
  },
  "language_info": {
   "codemirror_mode": {
    "name": "ipython",
    "version": 3
   },
   "file_extension": ".py",
   "mimetype": "text/x-python",
   "name": "python",
   "nbconvert_exporter": "python",
   "pygments_lexer": "ipython3",
   "version": "3.6.4"
  }
 },
 "nbformat": 4,
 "nbformat_minor": 2
}
